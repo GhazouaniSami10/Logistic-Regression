{
 "cells": [
  {
   "cell_type": "code",
   "execution_count": 1,
   "metadata": {
    "_cell_guid": "79c7e3d0-c299-4dcb-8224-4455121ee9b0",
    "_uuid": "d629ff2d2480ee46fbb7e2d37f6b5fab8052498a",
    "execution": {
     "iopub.execute_input": "2020-12-16T20:39:41.263310Z",
     "iopub.status.busy": "2020-12-16T20:39:41.262557Z",
     "iopub.status.idle": "2020-12-16T20:39:41.316844Z",
     "shell.execute_reply": "2020-12-16T20:39:41.317512Z"
    },
    "papermill": {
     "duration": 0.078904,
     "end_time": "2020-12-16T20:39:41.317736",
     "exception": false,
     "start_time": "2020-12-16T20:39:41.238832",
     "status": "completed"
    },
    "tags": []
   },
   "outputs": [],
   "source": [
    "import pandas as pd\n",
    "loan = pd.read_csv('loan_data.csv')\n",
    "final_loan = loan.copy()"
   ]
  },
  {
   "cell_type": "code",
   "execution_count": 2,
   "metadata": {
    "execution": {
     "iopub.execute_input": "2020-12-16T20:39:41.356674Z",
     "iopub.status.busy": "2020-12-16T20:39:41.355976Z",
     "iopub.status.idle": "2020-12-16T20:39:41.388785Z",
     "shell.execute_reply": "2020-12-16T20:39:41.388170Z"
    },
    "papermill": {
     "duration": 0.053021,
     "end_time": "2020-12-16T20:39:41.388901",
     "exception": false,
     "start_time": "2020-12-16T20:39:41.335880",
     "status": "completed"
    },
    "tags": []
   },
   "outputs": [
    {
     "data": {
      "text/html": [
       "<div>\n",
       "<style scoped>\n",
       "    .dataframe tbody tr th:only-of-type {\n",
       "        vertical-align: middle;\n",
       "    }\n",
       "\n",
       "    .dataframe tbody tr th {\n",
       "        vertical-align: top;\n",
       "    }\n",
       "\n",
       "    .dataframe thead th {\n",
       "        text-align: right;\n",
       "    }\n",
       "</style>\n",
       "<table border=\"1\" class=\"dataframe\">\n",
       "  <thead>\n",
       "    <tr style=\"text-align: right;\">\n",
       "      <th></th>\n",
       "      <th>credit.policy</th>\n",
       "      <th>purpose</th>\n",
       "      <th>int.rate</th>\n",
       "      <th>installment</th>\n",
       "      <th>log.annual.inc</th>\n",
       "      <th>dti</th>\n",
       "      <th>fico</th>\n",
       "      <th>days.with.cr.line</th>\n",
       "      <th>revol.bal</th>\n",
       "      <th>revol.util</th>\n",
       "      <th>inq.last.6mths</th>\n",
       "      <th>delinq.2yrs</th>\n",
       "      <th>pub.rec</th>\n",
       "      <th>not.fully.paid</th>\n",
       "    </tr>\n",
       "  </thead>\n",
       "  <tbody>\n",
       "    <tr>\n",
       "      <th>0</th>\n",
       "      <td>1</td>\n",
       "      <td>debt_consolidation</td>\n",
       "      <td>0.1189</td>\n",
       "      <td>829.10</td>\n",
       "      <td>11.350407</td>\n",
       "      <td>19.48</td>\n",
       "      <td>737</td>\n",
       "      <td>5639.958333</td>\n",
       "      <td>28854</td>\n",
       "      <td>52.1</td>\n",
       "      <td>0</td>\n",
       "      <td>0</td>\n",
       "      <td>0</td>\n",
       "      <td>0</td>\n",
       "    </tr>\n",
       "    <tr>\n",
       "      <th>1</th>\n",
       "      <td>1</td>\n",
       "      <td>credit_card</td>\n",
       "      <td>0.1071</td>\n",
       "      <td>228.22</td>\n",
       "      <td>11.082143</td>\n",
       "      <td>14.29</td>\n",
       "      <td>707</td>\n",
       "      <td>2760.000000</td>\n",
       "      <td>33623</td>\n",
       "      <td>76.7</td>\n",
       "      <td>0</td>\n",
       "      <td>0</td>\n",
       "      <td>0</td>\n",
       "      <td>0</td>\n",
       "    </tr>\n",
       "    <tr>\n",
       "      <th>2</th>\n",
       "      <td>1</td>\n",
       "      <td>debt_consolidation</td>\n",
       "      <td>0.1357</td>\n",
       "      <td>366.86</td>\n",
       "      <td>10.373491</td>\n",
       "      <td>11.63</td>\n",
       "      <td>682</td>\n",
       "      <td>4710.000000</td>\n",
       "      <td>3511</td>\n",
       "      <td>25.6</td>\n",
       "      <td>1</td>\n",
       "      <td>0</td>\n",
       "      <td>0</td>\n",
       "      <td>0</td>\n",
       "    </tr>\n",
       "    <tr>\n",
       "      <th>3</th>\n",
       "      <td>1</td>\n",
       "      <td>debt_consolidation</td>\n",
       "      <td>0.1008</td>\n",
       "      <td>162.34</td>\n",
       "      <td>11.350407</td>\n",
       "      <td>8.10</td>\n",
       "      <td>712</td>\n",
       "      <td>2699.958333</td>\n",
       "      <td>33667</td>\n",
       "      <td>73.2</td>\n",
       "      <td>1</td>\n",
       "      <td>0</td>\n",
       "      <td>0</td>\n",
       "      <td>0</td>\n",
       "    </tr>\n",
       "    <tr>\n",
       "      <th>4</th>\n",
       "      <td>1</td>\n",
       "      <td>credit_card</td>\n",
       "      <td>0.1426</td>\n",
       "      <td>102.92</td>\n",
       "      <td>11.299732</td>\n",
       "      <td>14.97</td>\n",
       "      <td>667</td>\n",
       "      <td>4066.000000</td>\n",
       "      <td>4740</td>\n",
       "      <td>39.5</td>\n",
       "      <td>0</td>\n",
       "      <td>1</td>\n",
       "      <td>0</td>\n",
       "      <td>0</td>\n",
       "    </tr>\n",
       "  </tbody>\n",
       "</table>\n",
       "</div>"
      ],
      "text/plain": [
       "   credit.policy             purpose  int.rate  installment  log.annual.inc  \\\n",
       "0              1  debt_consolidation    0.1189       829.10       11.350407   \n",
       "1              1         credit_card    0.1071       228.22       11.082143   \n",
       "2              1  debt_consolidation    0.1357       366.86       10.373491   \n",
       "3              1  debt_consolidation    0.1008       162.34       11.350407   \n",
       "4              1         credit_card    0.1426       102.92       11.299732   \n",
       "\n",
       "     dti  fico  days.with.cr.line  revol.bal  revol.util  inq.last.6mths  \\\n",
       "0  19.48   737        5639.958333      28854        52.1               0   \n",
       "1  14.29   707        2760.000000      33623        76.7               0   \n",
       "2  11.63   682        4710.000000       3511        25.6               1   \n",
       "3   8.10   712        2699.958333      33667        73.2               1   \n",
       "4  14.97   667        4066.000000       4740        39.5               0   \n",
       "\n",
       "   delinq.2yrs  pub.rec  not.fully.paid  \n",
       "0            0        0               0  \n",
       "1            0        0               0  \n",
       "2            0        0               0  \n",
       "3            0        0               0  \n",
       "4            1        0               0  "
      ]
     },
     "execution_count": 2,
     "metadata": {},
     "output_type": "execute_result"
    }
   ],
   "source": [
    "final_loan.head()"
   ]
  },
  {
   "cell_type": "code",
   "execution_count": 3,
   "metadata": {
    "execution": {
     "iopub.execute_input": "2020-12-16T20:39:41.433683Z",
     "iopub.status.busy": "2020-12-16T20:39:41.432902Z",
     "iopub.status.idle": "2020-12-16T20:39:41.446292Z",
     "shell.execute_reply": "2020-12-16T20:39:41.447547Z"
    },
    "papermill": {
     "duration": 0.040099,
     "end_time": "2020-12-16T20:39:41.447804",
     "exception": false,
     "start_time": "2020-12-16T20:39:41.407705",
     "status": "completed"
    },
    "tags": []
   },
   "outputs": [
    {
     "name": "stdout",
     "output_type": "stream",
     "text": [
      "<class 'pandas.core.frame.DataFrame'>\n",
      "RangeIndex: 9578 entries, 0 to 9577\n",
      "Data columns (total 14 columns):\n",
      " #   Column             Non-Null Count  Dtype  \n",
      "---  ------             --------------  -----  \n",
      " 0   credit.policy      9578 non-null   int64  \n",
      " 1   purpose            9578 non-null   object \n",
      " 2   int.rate           9578 non-null   float64\n",
      " 3   installment        9578 non-null   float64\n",
      " 4   log.annual.inc     9578 non-null   float64\n",
      " 5   dti                9578 non-null   float64\n",
      " 6   fico               9578 non-null   int64  \n",
      " 7   days.with.cr.line  9578 non-null   float64\n",
      " 8   revol.bal          9578 non-null   int64  \n",
      " 9   revol.util         9578 non-null   float64\n",
      " 10  inq.last.6mths     9578 non-null   int64  \n",
      " 11  delinq.2yrs        9578 non-null   int64  \n",
      " 12  pub.rec            9578 non-null   int64  \n",
      " 13  not.fully.paid     9578 non-null   int64  \n",
      "dtypes: float64(6), int64(7), object(1)\n",
      "memory usage: 1.0+ MB\n"
     ]
    }
   ],
   "source": [
    "final_loan.info()"
   ]
  },
  {
   "cell_type": "code",
   "execution_count": 4,
   "metadata": {
    "execution": {
     "iopub.execute_input": "2020-12-16T20:39:41.500095Z",
     "iopub.status.busy": "2020-12-16T20:39:41.497216Z",
     "iopub.status.idle": "2020-12-16T20:39:41.515518Z",
     "shell.execute_reply": "2020-12-16T20:39:41.514492Z"
    },
    "papermill": {
     "duration": 0.043438,
     "end_time": "2020-12-16T20:39:41.515732",
     "exception": false,
     "start_time": "2020-12-16T20:39:41.472294",
     "status": "completed"
    },
    "tags": []
   },
   "outputs": [
    {
     "data": {
      "text/plain": [
       "0    8045\n",
       "1    1533\n",
       "Name: not.fully.paid, dtype: int64"
      ]
     },
     "execution_count": 4,
     "metadata": {},
     "output_type": "execute_result"
    }
   ],
   "source": [
    "target_count = final_loan['not.fully.paid'].value_counts(dropna = False)\n",
    "target_count\n"
   ]
  },
  {
   "cell_type": "code",
   "execution_count": 5,
   "metadata": {
    "execution": {
     "iopub.execute_input": "2020-12-16T20:39:41.561477Z",
     "iopub.status.busy": "2020-12-16T20:39:41.560640Z",
     "iopub.status.idle": "2020-12-16T20:39:43.176351Z",
     "shell.execute_reply": "2020-12-16T20:39:43.175554Z"
    },
    "papermill": {
     "duration": 1.639489,
     "end_time": "2020-12-16T20:39:43.176494",
     "exception": false,
     "start_time": "2020-12-16T20:39:41.537005",
     "status": "completed"
    },
    "tags": []
   },
   "outputs": [
    {
     "ename": "ModuleNotFoundError",
     "evalue": "No module named 'imblearn'",
     "output_type": "error",
     "traceback": [
      "\u001b[0;31m---------------------------------------------------------------------------\u001b[0m",
      "\u001b[0;31mModuleNotFoundError\u001b[0m                       Traceback (most recent call last)",
      "\u001b[0;32m<ipython-input-5-b27065702ab1>\u001b[0m in \u001b[0;36m<module>\u001b[0;34m\u001b[0m\n\u001b[0;32m----> 1\u001b[0;31m \u001b[0;32mfrom\u001b[0m \u001b[0mimblearn\u001b[0m\u001b[0;34m.\u001b[0m\u001b[0mpipeline\u001b[0m \u001b[0;32mimport\u001b[0m \u001b[0mPipeline\u001b[0m\u001b[0;34m\u001b[0m\u001b[0;34m\u001b[0m\u001b[0m\n\u001b[0m",
      "\u001b[0;31mModuleNotFoundError\u001b[0m: No module named 'imblearn'"
     ]
    }
   ],
   "source": [
    "from imblearn.pipeline import Pipeline"
   ]
  },
  {
   "cell_type": "code",
   "execution_count": null,
   "metadata": {
    "execution": {
     "iopub.execute_input": "2020-12-16T20:39:43.231394Z",
     "iopub.status.busy": "2020-12-16T20:39:43.230502Z",
     "iopub.status.idle": "2020-12-16T20:39:43.241670Z",
     "shell.execute_reply": "2020-12-16T20:39:43.240298Z"
    },
    "papermill": {
     "duration": 0.043208,
     "end_time": "2020-12-16T20:39:43.241877",
     "exception": false,
     "start_time": "2020-12-16T20:39:43.198669",
     "status": "completed"
    },
    "tags": []
   },
   "outputs": [],
   "source": [
    "from sklearn.compose import ColumnTransformer\n",
    "from sklearn.preprocessing import PolynomialFeatures\n",
    "from sklearn.linear_model  import LogisticRegression\n",
    "from sklearn.preprocessing import StandardScaler, OneHotEncoder\n",
    "from imblearn.over_sampling import SMOTE\n",
    "from imblearn.pipeline import Pipeline\n",
    "from sklearn.model_selection import train_test_split\n"
   ]
  },
  {
   "cell_type": "code",
   "execution_count": null,
   "metadata": {
    "execution": {
     "iopub.execute_input": "2020-12-16T20:39:43.288101Z",
     "iopub.status.busy": "2020-12-16T20:39:43.286858Z",
     "iopub.status.idle": "2020-12-16T20:39:43.294436Z",
     "shell.execute_reply": "2020-12-16T20:39:43.295054Z"
    },
    "papermill": {
     "duration": 0.032393,
     "end_time": "2020-12-16T20:39:43.295240",
     "exception": false,
     "start_time": "2020-12-16T20:39:43.262847",
     "status": "completed"
    },
    "tags": []
   },
   "outputs": [],
   "source": [
    "numeric_features = ['credit.policy','int.rate',\n",
    "                    'installment','log.annual.inc','dti','fico',\n",
    "                    'days.with.cr.line','revol.bal','revol.util',\n",
    "                    'inq.last.6mths','delinq.2yrs','pub.rec']\n",
    "numeric_transformer = Pipeline(steps=[('poly',PolynomialFeatures(degree = 2)),\n",
    "                                      ('scaler', StandardScaler())])"
   ]
  },
  {
   "cell_type": "code",
   "execution_count": null,
   "metadata": {
    "execution": {
     "iopub.execute_input": "2020-12-16T20:39:43.341475Z",
     "iopub.status.busy": "2020-12-16T20:39:43.340064Z",
     "iopub.status.idle": "2020-12-16T20:39:43.346236Z",
     "shell.execute_reply": "2020-12-16T20:39:43.346835Z"
    },
    "papermill": {
     "duration": 0.031299,
     "end_time": "2020-12-16T20:39:43.346980",
     "exception": false,
     "start_time": "2020-12-16T20:39:43.315681",
     "status": "completed"
    },
    "tags": []
   },
   "outputs": [],
   "source": [
    "categorical_features = ['purpose']\n",
    "categorical_transformer = Pipeline(steps=[\n",
    "    ('onehot', OneHotEncoder(handle_unknown='ignore'))])\n"
   ]
  },
  {
   "cell_type": "code",
   "execution_count": null,
   "metadata": {
    "execution": {
     "iopub.execute_input": "2020-12-16T20:39:43.391913Z",
     "iopub.status.busy": "2020-12-16T20:39:43.390590Z",
     "iopub.status.idle": "2020-12-16T20:39:43.396410Z",
     "shell.execute_reply": "2020-12-16T20:39:43.396938Z"
    },
    "papermill": {
     "duration": 0.029237,
     "end_time": "2020-12-16T20:39:43.397080",
     "exception": false,
     "start_time": "2020-12-16T20:39:43.367843",
     "status": "completed"
    },
    "tags": []
   },
   "outputs": [],
   "source": [
    "preprocessor = ColumnTransformer(\n",
    "    transformers=[\n",
    "        ('num', numeric_transformer, numeric_features),\n",
    "        ('cat', categorical_transformer, categorical_features)])"
   ]
  },
  {
   "cell_type": "code",
   "execution_count": null,
   "metadata": {
    "execution": {
     "iopub.execute_input": "2020-12-16T20:39:43.444755Z",
     "iopub.status.busy": "2020-12-16T20:39:43.443587Z",
     "iopub.status.idle": "2020-12-16T20:39:43.447965Z",
     "shell.execute_reply": "2020-12-16T20:39:43.448565Z"
    },
    "papermill": {
     "duration": 0.030476,
     "end_time": "2020-12-16T20:39:43.448737",
     "exception": false,
     "start_time": "2020-12-16T20:39:43.418261",
     "status": "completed"
    },
    "tags": []
   },
   "outputs": [],
   "source": [
    "from imblearn.over_sampling import SMOTE\n",
    "\n"
   ]
  },
  {
   "cell_type": "code",
   "execution_count": null,
   "metadata": {
    "execution": {
     "iopub.execute_input": "2020-12-16T20:39:43.492969Z",
     "iopub.status.busy": "2020-12-16T20:39:43.491821Z",
     "iopub.status.idle": "2020-12-16T20:39:43.497414Z",
     "shell.execute_reply": "2020-12-16T20:39:43.498046Z"
    },
    "papermill": {
     "duration": 0.029727,
     "end_time": "2020-12-16T20:39:43.498215",
     "exception": false,
     "start_time": "2020-12-16T20:39:43.468488",
     "status": "completed"
    },
    "tags": []
   },
   "outputs": [],
   "source": [
    "#smt = SMOTE(random_state=42, ratio = 'minority')\n",
    "smt = SMOTE(random_state=42, sampling_strategy=0.6)\n",
    "lor = LogisticRegression(C = 50)"
   ]
  },
  {
   "cell_type": "code",
   "execution_count": null,
   "metadata": {
    "execution": {
     "iopub.execute_input": "2020-12-16T20:39:43.559529Z",
     "iopub.status.busy": "2020-12-16T20:39:43.558255Z",
     "iopub.status.idle": "2020-12-16T20:39:43.564757Z",
     "shell.execute_reply": "2020-12-16T20:39:43.565366Z"
    },
    "papermill": {
     "duration": 0.033176,
     "end_time": "2020-12-16T20:39:43.565546",
     "exception": false,
     "start_time": "2020-12-16T20:39:43.532370",
     "status": "completed"
    },
    "tags": []
   },
   "outputs": [],
   "source": [
    "clf = Pipeline([('preprocessor', preprocessor),('smt', smt),\n",
    "                ('lor',lor)])"
   ]
  },
  {
   "cell_type": "code",
   "execution_count": null,
   "metadata": {
    "execution": {
     "iopub.execute_input": "2020-12-16T20:39:43.612824Z",
     "iopub.status.busy": "2020-12-16T20:39:43.611640Z",
     "iopub.status.idle": "2020-12-16T20:39:44.228501Z",
     "shell.execute_reply": "2020-12-16T20:39:44.227229Z"
    },
    "papermill": {
     "duration": 0.641894,
     "end_time": "2020-12-16T20:39:44.228690",
     "exception": false,
     "start_time": "2020-12-16T20:39:43.586796",
     "status": "completed"
    },
    "tags": []
   },
   "outputs": [],
   "source": [
    "y = final_loan['not.fully.paid']\n",
    "X = final_loan.drop('not.fully.paid', axis = 1)\n",
    "X_train, X_test, y_train, y_test = train_test_split(X, y,test_size = 0.33, random_state = 42,stratify = y )\n",
    "clf.fit(X_train, y_train)\n",
    "#X_full_train, X_full_test, Y_full_train, Y_full_test = train_test_split(X_values_full, Y_values, test_size = 0.33, random_state = 42, )\n"
   ]
  },
  {
   "cell_type": "code",
   "execution_count": null,
   "metadata": {
    "execution": {
     "iopub.execute_input": "2020-12-16T20:39:44.289818Z",
     "iopub.status.busy": "2020-12-16T20:39:44.288509Z",
     "iopub.status.idle": "2020-12-16T20:39:44.321535Z",
     "shell.execute_reply": "2020-12-16T20:39:44.322355Z"
    },
    "papermill": {
     "duration": 0.062946,
     "end_time": "2020-12-16T20:39:44.322563",
     "exception": false,
     "start_time": "2020-12-16T20:39:44.259617",
     "status": "completed"
    },
    "tags": []
   },
   "outputs": [],
   "source": [
    "clf.score(X_train, y_train)"
   ]
  },
  {
   "cell_type": "code",
   "execution_count": null,
   "metadata": {
    "execution": {
     "iopub.execute_input": "2020-12-16T20:39:44.377590Z",
     "iopub.status.busy": "2020-12-16T20:39:44.376333Z",
     "iopub.status.idle": "2020-12-16T20:39:44.398127Z",
     "shell.execute_reply": "2020-12-16T20:39:44.398726Z"
    },
    "papermill": {
     "duration": 0.051317,
     "end_time": "2020-12-16T20:39:44.398894",
     "exception": false,
     "start_time": "2020-12-16T20:39:44.347577",
     "status": "completed"
    },
    "tags": []
   },
   "outputs": [],
   "source": [
    "clf.score(X_test, y_test)"
   ]
  },
  {
   "cell_type": "code",
   "execution_count": null,
   "metadata": {
    "execution": {
     "iopub.execute_input": "2020-12-16T20:39:44.450823Z",
     "iopub.status.busy": "2020-12-16T20:39:44.449618Z",
     "iopub.status.idle": "2020-12-16T20:39:44.458296Z",
     "shell.execute_reply": "2020-12-16T20:39:44.459023Z"
    },
    "papermill": {
     "duration": 0.036575,
     "end_time": "2020-12-16T20:39:44.459236",
     "exception": false,
     "start_time": "2020-12-16T20:39:44.422661",
     "status": "completed"
    },
    "tags": []
   },
   "outputs": [],
   "source": [
    " y_test"
   ]
  },
  {
   "cell_type": "code",
   "execution_count": null,
   "metadata": {
    "execution": {
     "iopub.execute_input": "2020-12-16T20:39:44.511967Z",
     "iopub.status.busy": "2020-12-16T20:39:44.510811Z",
     "iopub.status.idle": "2020-12-16T20:39:44.525590Z",
     "shell.execute_reply": "2020-12-16T20:39:44.526534Z"
    },
    "papermill": {
     "duration": 0.042444,
     "end_time": "2020-12-16T20:39:44.526706",
     "exception": false,
     "start_time": "2020-12-16T20:39:44.484262",
     "status": "completed"
    },
    "tags": []
   },
   "outputs": [],
   "source": [
    " y_train"
   ]
  },
  {
   "cell_type": "code",
   "execution_count": null,
   "metadata": {
    "execution": {
     "iopub.execute_input": "2020-12-16T20:39:44.589583Z",
     "iopub.status.busy": "2020-12-16T20:39:44.588386Z",
     "iopub.status.idle": "2020-12-16T20:39:44.595597Z",
     "shell.execute_reply": "2020-12-16T20:39:44.596237Z"
    },
    "papermill": {
     "duration": 0.038119,
     "end_time": "2020-12-16T20:39:44.596448",
     "exception": false,
     "start_time": "2020-12-16T20:39:44.558329",
     "status": "completed"
    },
    "tags": []
   },
   "outputs": [],
   "source": [
    "X.shape"
   ]
  },
  {
   "cell_type": "code",
   "execution_count": null,
   "metadata": {
    "execution": {
     "iopub.execute_input": "2020-12-16T20:39:44.653813Z",
     "iopub.status.busy": "2020-12-16T20:39:44.652624Z",
     "iopub.status.idle": "2020-12-16T20:39:44.660731Z",
     "shell.execute_reply": "2020-12-16T20:39:44.659609Z"
    },
    "papermill": {
     "duration": 0.038582,
     "end_time": "2020-12-16T20:39:44.660872",
     "exception": false,
     "start_time": "2020-12-16T20:39:44.622290",
     "status": "completed"
    },
    "tags": []
   },
   "outputs": [],
   "source": [
    "y.shape"
   ]
  },
  {
   "cell_type": "code",
   "execution_count": null,
   "metadata": {
    "execution": {
     "iopub.execute_input": "2020-12-16T20:39:44.721112Z",
     "iopub.status.busy": "2020-12-16T20:39:44.720336Z",
     "iopub.status.idle": "2020-12-16T20:39:44.723284Z",
     "shell.execute_reply": "2020-12-16T20:39:44.723927Z"
    },
    "papermill": {
     "duration": 0.035993,
     "end_time": "2020-12-16T20:39:44.724076",
     "exception": false,
     "start_time": "2020-12-16T20:39:44.688083",
     "status": "completed"
    },
    "tags": []
   },
   "outputs": [],
   "source": [
    "X.shape[0] "
   ]
  },
  {
   "cell_type": "code",
   "execution_count": null,
   "metadata": {
    "execution": {
     "iopub.execute_input": "2020-12-16T20:39:44.782337Z",
     "iopub.status.busy": "2020-12-16T20:39:44.781692Z",
     "iopub.status.idle": "2020-12-16T20:39:44.786652Z",
     "shell.execute_reply": "2020-12-16T20:39:44.787137Z"
    },
    "papermill": {
     "duration": 0.035788,
     "end_time": "2020-12-16T20:39:44.787286",
     "exception": false,
     "start_time": "2020-12-16T20:39:44.751498",
     "status": "completed"
    },
    "tags": []
   },
   "outputs": [],
   "source": [
    " y.shape[0]"
   ]
  },
  {
   "cell_type": "code",
   "execution_count": null,
   "metadata": {
    "execution": {
     "iopub.execute_input": "2020-12-16T20:39:44.840932Z",
     "iopub.status.busy": "2020-12-16T20:39:44.840202Z",
     "iopub.status.idle": "2020-12-16T20:39:44.852591Z",
     "shell.execute_reply": "2020-12-16T20:39:44.851858Z"
    },
    "papermill": {
     "duration": 0.041858,
     "end_time": "2020-12-16T20:39:44.852821",
     "exception": false,
     "start_time": "2020-12-16T20:39:44.810963",
     "status": "completed"
    },
    "tags": []
   },
   "outputs": [],
   "source": [
    "from sklearn.metrics import confusion_matrix\n",
    "from sklearn.metrics import accuracy_score, precision_score, recall_score, f1_score\n",
    "from sklearn.metrics import classification_report\n",
    "confusion = confusion_matrix(y_test,  y_test)\n",
    "confusion"
   ]
  },
  {
   "cell_type": "code",
   "execution_count": null,
   "metadata": {
    "execution": {
     "iopub.execute_input": "2020-12-16T20:39:44.908175Z",
     "iopub.status.busy": "2020-12-16T20:39:44.907115Z",
     "iopub.status.idle": "2020-12-16T20:39:44.923532Z",
     "shell.execute_reply": "2020-12-16T20:39:44.922799Z"
    },
    "papermill": {
     "duration": 0.046137,
     "end_time": "2020-12-16T20:39:44.923655",
     "exception": false,
     "start_time": "2020-12-16T20:39:44.877518",
     "status": "completed"
    },
    "tags": []
   },
   "outputs": [],
   "source": [
    "from sklearn.metrics import classification_report\n",
    "print(classification_report(y_test, y_test, target_names=['0', '1']))"
   ]
  },
  {
   "cell_type": "code",
   "execution_count": null,
   "metadata": {
    "execution": {
     "iopub.execute_input": "2020-12-16T20:39:44.987589Z",
     "iopub.status.busy": "2020-12-16T20:39:44.986884Z",
     "iopub.status.idle": "2020-12-16T20:39:45.192115Z",
     "shell.execute_reply": "2020-12-16T20:39:45.192672Z"
    },
    "papermill": {
     "duration": 0.243939,
     "end_time": "2020-12-16T20:39:45.192835",
     "exception": false,
     "start_time": "2020-12-16T20:39:44.948896",
     "status": "completed"
    },
    "tags": []
   },
   "outputs": [],
   "source": [
    "import sklearn.metrics as metrics\n",
    "# calculate the fpr and tpr for all thresholds of the classification\n",
    "probs = clf.predict_proba(X_test)\n",
    "preds = probs[:,1]\n",
    "fpr, tpr, threshold = metrics.roc_curve(y_test, preds)\n",
    "roc_auc = metrics.auc(fpr, tpr)\n",
    "\n",
    "import matplotlib.pyplot as plt\n",
    "plt.title('Receiver Operating Characteristic')\n",
    "plt.plot(fpr, tpr, 'b', label = 'AUC = %0.2f' % roc_auc)\n",
    "plt.legend(loc = 'lower right')\n",
    "plt.plot([0, 1], [0, 1],'r--')\n",
    "plt.xlim([0, 1])\n",
    "plt.ylim([0, 1])\n",
    "plt.ylabel('True Positive Rate')\n",
    "plt.xlabel('False Positive Rate')\n",
    "plt.show()"
   ]
  }
 ],
 "metadata": {
  "kernelspec": {
   "display_name": "Python 3",
   "language": "python",
   "name": "python3"
  },
  "language_info": {
   "codemirror_mode": {
    "name": "ipython",
    "version": 3
   },
   "file_extension": ".py",
   "mimetype": "text/x-python",
   "name": "python",
   "nbconvert_exporter": "python",
   "pygments_lexer": "ipython3",
   "version": "3.6.9"
  },
  "papermill": {
   "duration": 9.752824,
   "end_time": "2020-12-16T20:39:45.327746",
   "environment_variables": {},
   "exception": null,
   "input_path": "__notebook__.ipynb",
   "output_path": "__notebook__.ipynb",
   "parameters": {},
   "start_time": "2020-12-16T20:39:35.574922",
   "version": "2.1.0"
  }
 },
 "nbformat": 4,
 "nbformat_minor": 4
}
